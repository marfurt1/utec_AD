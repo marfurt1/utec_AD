{
 "cells": [
  {
   "cell_type": "code",
   "execution_count": 2,
   "id": "8e88b6a7",
   "metadata": {},
   "outputs": [
    {
     "name": "stdout",
     "output_type": "stream",
     "text": [
      "a=6,b=1\n"
     ]
    }
   ],
   "source": [
    "a=6\n",
    "b=1\n",
    "print(f\"a={a},b={b}\")"
   ]
  },
  {
   "cell_type": "markdown",
   "id": "6d14ff0f",
   "metadata": {},
   "source": [
    "# Titulo\n",
    "Esto es el título\n"
   ]
  }
 ],
 "metadata": {
  "kernelspec": {
   "display_name": "Python 3 (ipykernel)",
   "language": "python",
   "name": "python3"
  },
  "language_info": {
   "codemirror_mode": {
    "name": "ipython",
    "version": 3
   },
   "file_extension": ".py",
   "mimetype": "text/x-python",
   "name": "python",
   "nbconvert_exporter": "python",
   "pygments_lexer": "ipython3",
   "version": "3.10.9"
  }
 },
 "nbformat": 4,
 "nbformat_minor": 5
}
